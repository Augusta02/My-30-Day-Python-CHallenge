{
  "nbformat": 4,
  "nbformat_minor": 0,
  "metadata": {
    "colab": {
      "name": "Python Regular expressions.ipynb",
      "provenance": [],
      "authorship_tag": "ABX9TyN4+2jSqF1S/m/94PTctlPR",
      "include_colab_link": true
    },
    "kernelspec": {
      "name": "python3",
      "display_name": "Python 3"
    },
    "language_info": {
      "name": "python"
    }
  },
  "cells": [
    {
      "cell_type": "markdown",
      "metadata": {
        "id": "view-in-github",
        "colab_type": "text"
      },
      "source": [
        "<a href=\"https://colab.research.google.com/github/Augusta02/My-30-Day-Python-CHallenge/blob/main/Python_Regular_expressions.ipynb\" target=\"_parent\"><img src=\"https://colab.research.google.com/assets/colab-badge.svg\" alt=\"Open In Colab\"/></a>"
      ]
    },
    {
      "cell_type": "code",
      "execution_count": 40,
      "metadata": {
        "id": "8-OxKnNUh4UQ"
      },
      "outputs": [],
      "source": [
        "###Regular Expressions:They are used to check patterns in a data. It can be used to check if a pattern exists in  \n",
        "### a data type. To used regular expressions in python, you have to import re\n",
        "\n",
        "import re\n"
      ]
    },
    {
      "cell_type": "code",
      "source": [
        "###different re characters that search for a match in a string\n",
        "##re.match() : this searches for a pattern in the first line of the string\n",
        "## and returns the matched objects if true, else it returns NONE\n",
        "##rematch(substring, string, re.I)\n",
        "## substring is the string or pattern, string is the text we search for the pattern, re.I is case ignore\n",
        "\n",
        "txt = 'I love to learn python and javascript'\n",
        "match = re.match('I love to learn', txt, re.I)\n",
        "print(match)\n",
        "\n",
        "Match = re.match('python', txt, re.I)\n",
        "print(Match)\n",
        "\n",
        "new = re.match('love', txt, re.I)\n",
        "print(new)\n",
        "\n",
        "new_word = re.match('I', txt, re.I)\n",
        "print(new_word)\n",
        "\n",
        "# the match function ONLY returns if the text starts with pattern"
      ],
      "metadata": {
        "colab": {
          "base_uri": "https://localhost:8080/"
        },
        "id": "0S-luKaqi9b3",
        "outputId": "db2f4e95-3cf2-4c8f-ea9e-605f0221bb4a"
      },
      "execution_count": 41,
      "outputs": [
        {
          "output_type": "stream",
          "name": "stdout",
          "text": [
            "<re.Match object; span=(0, 15), match='I love to learn'>\n",
            "None\n",
            "None\n",
            "<re.Match object; span=(0, 1), match='I'>\n"
          ]
        }
      ]
    },
    {
      "cell_type": "code",
      "source": [
        "##re.search(): this returns a matched object in a string, including multiline strings\n",
        "txt= '''Haskell is an interesting Functional programming language. \n",
        "You do not need knowledge of other programming language to learn haskell'''\n",
        "\n",
        "search = re.search('need', txt, re.I)\n",
        "print(search)\n",
        "\n",
        "re = re.search('programming', txt, re.I)\n",
        "print(re)\n",
        "\n",
        "## search function returns the first match that was found."
      ],
      "metadata": {
        "colab": {
          "base_uri": "https://localhost:8080/"
        },
        "id": "sie6XvI0nYq0",
        "outputId": "10a90172-3dd0-4db8-9db1-350d2cd6f8b4"
      },
      "execution_count": 42,
      "outputs": [
        {
          "output_type": "stream",
          "name": "stdout",
          "text": [
            "<re.Match object; span=(71, 75), match='need'>\n",
            "<re.Match object; span=(37, 48), match='programming'>\n"
          ]
        }
      ]
    },
    {
      "cell_type": "code",
      "source": [
        "##re.findall(): this returns all the matched objects and returns it in a list\n",
        "import re\n",
        "Matches = re.findall('programming', txt, re.I)\n",
        "print(Matches)"
      ],
      "metadata": {
        "colab": {
          "base_uri": "https://localhost:8080/"
        },
        "id": "Q4mX2BHh0CmD",
        "outputId": "ffd63b1c-3982-429c-bb64-3e747d03484d"
      },
      "execution_count": 43,
      "outputs": [
        {
          "output_type": "stream",
          "name": "stdout",
          "text": [
            "['programming', 'programming']\n"
          ]
        }
      ]
    },
    {
      "cell_type": "code",
      "source": [
        "###re.sub(): replaces a substring with another substring\n",
        "match_replaced = re.sub('Haskell|haskell', 'Python', txt, re.I)\n",
        "print(match_replaced)\n"
      ],
      "metadata": {
        "colab": {
          "base_uri": "https://localhost:8080/"
        },
        "id": "Y3Z2D4S-2gE6",
        "outputId": "25de1610-2304-4cdc-a86c-3d0cc6b4deec"
      },
      "execution_count": 44,
      "outputs": [
        {
          "output_type": "stream",
          "name": "stdout",
          "text": [
            "Python is an interesting Functional programming language. \n",
            "You do not need knowledge of other programming language to learn Python\n"
          ]
        }
      ]
    },
    {
      "cell_type": "code",
      "source": [
        "txt = '''%I a%m te%%a%%che%r% a%n%d %% I l%o%ve te%ach%ing. \n",
        "T%he%re i%s n%o%th%ing as r%ewarding a%s e%duc%at%i%ng a%n%d e%m%p%ow%er%ing p%e%o%ple.\n",
        "I fo%und te%a%ching m%ore i%n%t%er%%es%ting t%h%an any other %jobs. \n",
        "D%o%es thi%s m%ot%iv%a%te %y%o%u to b%e a t%e%a%cher?'''\n",
        "\n",
        "match = re.sub('%',\"\", txt, 0, re.I)\n",
        "print(match)"
      ],
      "metadata": {
        "colab": {
          "base_uri": "https://localhost:8080/"
        },
        "id": "-kceTuxw4O-E",
        "outputId": "6312d31b-fc2b-40b8-c6ba-23fa733ec6aa"
      },
      "execution_count": 128,
      "outputs": [
        {
          "output_type": "stream",
          "name": "stdout",
          "text": [
            "I am teacher and  I love teaching. \n",
            "There is nothing as rewarding as educating and empowering people.\n",
            "I found teaching more interesting than any other jobs. \n",
            "Does this motivate you to be a teacher?\n"
          ]
        }
      ]
    },
    {
      "cell_type": "code",
      "source": [
        "##splitting text using Regex Split\n",
        "print(re.split('\\n', match))"
      ],
      "metadata": {
        "colab": {
          "base_uri": "https://localhost:8080/"
        },
        "id": "ruvUv-157hpQ",
        "outputId": "c8fcb2b8-1d11-4357-ef88-c559a4e3df53"
      },
      "execution_count": 53,
      "outputs": [
        {
          "output_type": "stream",
          "name": "stdout",
          "text": [
            "['I am teacher and  I love teaching. ', 'There is nothing as rewarding as educating and empowering people.', 'I found teaching more interesting than any other jobs. ', 'Does this motivate you to be a teacher?']\n"
          ]
        }
      ]
    },
    {
      "cell_type": "code",
      "source": [
        "###Writing Regex Patterns\n",
        "##When we declare string variable, we start with a single or double quotes\n",
        "##to declare regex patterns, r''\n",
        "import re\n",
        "txt= '''Haskell is an interesting Functional programming language. \n",
        "You do not need knowledge of other programming language to learn haskell'''\n",
        "regex_pattern = r'programming'\n",
        "matches = re.findall(regex_pattern, txt, re.I)\n",
        "print(matches)\n",
        "\n",
        "new_pattern = r'Haskell|haskell'\n",
        "match = re.findall(new_pattern, txt, re.I)\n",
        "print(match)\n",
        "\n",
        "pattern = r'[a].'\n",
        "new_match = re.findall(pattern, txt, re.I)\n",
        "print(new_match)\n",
        "\n",
        "txt = '''I am not sure if there is a convention how to write the word e-mail.\n",
        "Some people write it as email others may write it as Email or E-mail.'''\n",
        "regex_pattern = r'[Ee]-?mail'  # ? means here that '-' is optional\n",
        "matches = re.sub(regex_pattern, 'g-mail', txt)\n",
        "print(matches)"
      ],
      "metadata": {
        "colab": {
          "base_uri": "https://localhost:8080/"
        },
        "id": "HSjHNIcc9qvH",
        "outputId": "9a6abce3-9646-4e6d-f71e-9a2f425af749"
      },
      "execution_count": 108,
      "outputs": [
        {
          "output_type": "stream",
          "name": "stdout",
          "text": [
            "['programming', 'programming']\n",
            "['Haskell', 'haskell']\n",
            "['as', 'an', 'al', 'am', 'an', 'ag', 'am', 'an', 'ag', 'ar', 'as']\n",
            "I am not sure if there is a convention how to write the word g-mail.\n",
            "Some people write it as g-mail others may write it as g-mail or g-mail.\n"
          ]
        }
      ]
    },
    {
      "cell_type": "code",
      "source": [
        "##Write a pattern which identifies if a string is a valid python variable\n",
        "#is_valid_variable('first_name') # True\n",
        "#is_valid_variable('first-name') # False\n",
        "#is_valid_variable('1first_name') # False\n",
        "#is_valid_variable('firstname') # True\n",
        "import re\n",
        "\n",
        "#^ before the brackets means start with\n",
        "#therefore the names must start with an alphabet\n",
        "regex_pattern = r'^[A-Za-z_]\\w*$'\n",
        "\n",
        "def is_valid_variable(string):\n",
        "  if (re.search(regex_pattern, string)):\n",
        "    print(string)\n",
        "  else:\n",
        "    print('Invalid variable')\n",
        "\n",
        "is_valid_variable('first_name')\n",
        "is_valid_variable('first-name')\n",
        "is_valid_variable('1first_name')\n",
        "is_valid_variable('firstname')"
      ],
      "metadata": {
        "colab": {
          "base_uri": "https://localhost:8080/"
        },
        "id": "8cGbTxkFGDW0",
        "outputId": "63846192-f1e5-4b10-a193-5578c9571c8a"
      },
      "execution_count": 69,
      "outputs": [
        {
          "output_type": "stream",
          "name": "stdout",
          "text": [
            "first_name\n",
            "Invalid variable\n",
            "Invalid variable\n",
            "firstname\n"
          ]
        }
      ]
    },
    {
      "cell_type": "code",
      "source": [
        "#Clean the following text. After cleaning, count three most frequent words in the string.\n",
        "#sentence = '''%I $am@% a %tea@cher%, &and& I lo%#ve %tea@ching%;. There $is nothing; &as& mo@re rewarding as educa@ting &and& @emp%o@wering peo@ple. ;I found tea@ching m%o@re interesting tha@n any other %jo@bs. %Do@es thi%s mo@tivate yo@u to be a tea@cher!?'''\n",
        "#print(clean_text(sentence));\n",
        "#I am a teacher and I love teaching There is nothing as more rewarding as educating and empowering people I found teaching more interesting than any other jobs Does this motivate you to be a teacher\n",
        "#print(most_frequent_words(cleaned_text)) # [(3, 'I'), (2, 'teaching'), (2, 'teacher')]\n",
        "import re\n",
        "sentence = '''%I $am@% a %tea@cher%, &and& I lo%#ve %tea@ching%;. There $is nothing; &as& mo@re rewarding as educa@ting &and& @emp%o@wering peo@ple. ;I found tea@ching m%o@re interesting tha@n any other %jo@bs. %Do@es thi%s mo@tivate yo@u to be a tea@cher!?'''\n",
        "\n",
        "regex = r'@|%|\\$|&|#|;'\n",
        "new_sentence = re.sub(regex, '', sentence)\n",
        "print(new_sentence)\n"
      ],
      "metadata": {
        "colab": {
          "base_uri": "https://localhost:8080/"
        },
        "id": "jc-SBYDVxtU0",
        "outputId": "c2c9a591-bf84-48b4-ca4d-59ef9c8149be"
      },
      "execution_count": 66,
      "outputs": [
        {
          "output_type": "stream",
          "name": "stdout",
          "text": [
            "I am a teacher, and I love teaching. There is nothing as more rewarding as educating and empowering people. I found teaching more interesting than any other jobs. Does this motivate you to be a teacher!?\n"
          ]
        }
      ]
    }
  ]
}